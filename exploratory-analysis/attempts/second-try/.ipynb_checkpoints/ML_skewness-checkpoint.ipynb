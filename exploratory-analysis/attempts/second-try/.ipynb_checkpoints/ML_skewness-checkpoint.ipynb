{
 "cells": [
  {
   "cell_type": "code",
   "execution_count": 1,
   "metadata": {
    "collapsed": true
   },
   "outputs": [],
   "source": [
    "import pandas as pd\n",
    "import numpy as np\n",
    "import seaborn as sns\n",
    "import matplotlib.pyplot as plt\n",
    "%matplotlib inline\n",
    "from scipy.special import boxcox1p\n",
    "from sklearn import preprocessing\n",
    "\n",
    "plt.style.use('ggplot')"
   ]
  },
  {
   "cell_type": "code",
   "execution_count": 2,
   "metadata": {
    "collapsed": true
   },
   "outputs": [],
   "source": [
    "feature_fillna = pd.read_csv(\"feature_fillna.csv\")"
   ]
  },
  {
   "cell_type": "code",
   "execution_count": 3,
   "metadata": {
    "collapsed": false
   },
   "outputs": [],
   "source": [
    "# Month sold and MSSubClass are transformed into categorical features\n",
    "feature_fillna[\"MoSold\"] = feature_fillna[\"MoSold\"].apply(int)\n",
    "feature_fillna[\"MoSold\"] = feature_fillna[\"MoSold\"].apply(str)\n",
    "feature_fillna[\"MSSubClass\"] = feature_fillna[\"MSSubClass\"].apply(str)\n",
    "\n",
    "# Some datatype of numerical features are mistaken as str\n",
    "feature_fillna[\"LotFrontage\"] = feature_fillna[\"LotFrontage\"].apply(float)\n",
    "feature_fillna[\"LowQualFinSF\"] = feature_fillna[\"LowQualFinSF\"].apply(float)\n",
    "feature_fillna[\"BsmtFinSF1\"] = feature_fillna[\"BsmtFinSF1\"].apply(float)\n",
    "feature_fillna[\"BsmtFullBath\"] = feature_fillna[\"BsmtFullBath\"].apply(float)\n",
    "feature_fillna[\"BsmtHalfBath\"] = feature_fillna[\"BsmtHalfBath\"].apply(float)\n",
    "feature_fillna[\"BsmtUnfSF\"] = feature_fillna[\"BsmtUnfSF\"].apply(float)"
   ]
  },
  {
   "cell_type": "code",
   "execution_count": null,
   "metadata": {
    "collapsed": true
   },
   "outputs": [],
   "source": []
  }
 ],
 "metadata": {
  "kernelspec": {
   "display_name": "Python 2",
   "language": "python",
   "name": "python2"
  },
  "language_info": {
   "codemirror_mode": {
    "name": "ipython",
    "version": 2
   },
   "file_extension": ".py",
   "mimetype": "text/x-python",
   "name": "python",
   "nbconvert_exporter": "python",
   "pygments_lexer": "ipython2",
   "version": "2.7.13"
  }
 },
 "nbformat": 4,
 "nbformat_minor": 2
}
