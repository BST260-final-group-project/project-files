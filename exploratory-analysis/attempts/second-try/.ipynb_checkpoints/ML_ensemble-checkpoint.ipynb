{
 "cells": [
  {
   "cell_type": "code",
   "execution_count": 9,
   "metadata": {
    "collapsed": false
   },
   "outputs": [],
   "source": [
    "import pandas as pd\n",
    "import numpy as np\n",
    "\n",
    "from sklearn.ensemble import RandomForestRegressor\n",
    "from sklearn.preprocessing import LabelEncoder\n",
    "from sklearn.preprocessing import Normalizer\n",
    "from sklearn.cross_validation import cross_val_score\n",
    "from sklearn.preprocessing import Imputer\n",
    "\n",
    "from scipy.stats import skew\n",
    "\n",
    "import seaborn as sns\n",
    "import matplotlib.pyplot as plt\n",
    "%matplotlib inline\n",
    "\n",
    "plt.style.use('ggplot')\n",
    "\n",
    "data = pd.read_csv(\"feature_fillna_onehot.csv\")"
   ]
  },
  {
   "cell_type": "code",
   "execution_count": 10,
   "metadata": {
    "collapsed": true
   },
   "outputs": [],
   "source": [
    "# Adding total sqfootage feature \n",
    "data['TotalSF'] = data['TotalBsmtSF'] + data['1stFlrSF'] + data['2ndFlrSF']"
   ]
  },
  {
   "cell_type": "code",
   "execution_count": 11,
   "metadata": {
    "collapsed": false
   },
   "outputs": [
    {
     "data": {
      "text/plain": [
       "Index([u'Id', u'SalePrice', u'KitchenAbvGr', u'LotArea', u'LotFrontage',\n",
       "       u'LowQualFinSF', u'MasVnrArea', u'MiscVal', u'EnclosedPorch',\n",
       "       u'ExterCond',\n",
       "       ...\n",
       "       u'SaleType_ConLw', u'SaleType_New', u'SaleType_Oth', u'SaleType_WD',\n",
       "       u'Street_Grvl', u'Street_Pave', u'Utilities_AllPub',\n",
       "       u'Utilities_NoSeWa', u'source', u'TotalSF'],\n",
       "      dtype='object', length=270)"
      ]
     },
     "execution_count": 11,
     "metadata": {},
     "output_type": "execute_result"
    }
   ],
   "source": [
    "# The feature names\n",
    "data.columns"
   ]
  },
  {
   "cell_type": "code",
   "execution_count": 12,
   "metadata": {
    "collapsed": true
   },
   "outputs": [],
   "source": [
    "# Numerical features\n",
    "feature_num = [\"LotFrontage\", \"LotArea\", \"MasVnrArea\", \"BsmtFinSF1\", \"BsmtFinSF2\", \"BsmtUnfSF\", \n",
    "               \"TotalBsmtSF\", \"1stFlrSF\", \"2ndFlrSF\", \"LowQualFinSF\", \"GrLivArea\", \"TotRmsAbvGrd\", \n",
    "               \"GarageArea\", \"WoodDeckSF\", \"OpenPorchSF\", \"EnclosedPorch\", \"3SsnPorch\", \"ScreenPorch\",\n",
    "              \"PoolArea\", \"MiscVal\", \"TotalSF\"]"
   ]
  },
  {
   "cell_type": "code",
   "execution_count": 13,
   "metadata": {
    "collapsed": true
   },
   "outputs": [],
   "source": [
    "from scipy.special import boxcox1p\n",
    "from scipy.stats import skew"
   ]
  },
  {
   "cell_type": "code",
   "execution_count": 14,
   "metadata": {
    "collapsed": false
   },
   "outputs": [
    {
     "name": "stdout",
     "output_type": "stream",
     "text": [
      "LotFrontage\n",
      "LotArea\n",
      "MasVnrArea\n",
      "BsmtFinSF1\n",
      "BsmtFinSF2\n",
      "BsmtUnfSF\n",
      "TotalBsmtSF\n",
      "1stFlrSF\n",
      "2ndFlrSF\n",
      "LowQualFinSF\n",
      "GrLivArea\n",
      "TotRmsAbvGrd\n",
      "WoodDeckSF\n",
      "OpenPorchSF\n",
      "EnclosedPorch\n",
      "3SsnPorch\n",
      "ScreenPorch\n",
      "PoolArea\n",
      "MiscVal\n",
      "TotalSF\n"
     ]
    }
   ],
   "source": [
    "# Box Cox Transformation of (highly) skewed features\n",
    "lam = 0.15\n",
    "for feature in feature_num:\n",
    "    if skew(data[feature]) > 0.75:\n",
    "        data[feature] = boxcox1p(data[feature], lam)\n",
    "        print feature"
   ]
  },
  {
   "cell_type": "code",
   "execution_count": 15,
   "metadata": {
    "collapsed": true
   },
   "outputs": [],
   "source": [
    "# Split the data\n",
    "df_train = data[data[\"source\"] == \"train\"]\n",
    "df_test = data[data[\"source\"] == \"test\"]"
   ]
  },
  {
   "cell_type": "code",
   "execution_count": 16,
   "metadata": {
    "collapsed": true
   },
   "outputs": [],
   "source": [
    "# Delete price outlier\n",
    "df_train = df_train[~(df_train[\"Id\"] == 524)]\n",
    "df_train = df_train[~(df_train[\"Id\"] == 1299)]"
   ]
  },
  {
   "cell_type": "code",
   "execution_count": 17,
   "metadata": {
    "collapsed": true
   },
   "outputs": [],
   "source": [
    "# The target value\n",
    "price = df_train[\"SalePrice\"]\n",
    "y_train = np.log(price)"
   ]
  },
  {
   "cell_type": "code",
   "execution_count": 18,
   "metadata": {
    "collapsed": true
   },
   "outputs": [],
   "source": [
    "# Drop \"Id\", \"SalePrice\", and \"source\"\n",
    "X_train = df_train.drop(\"Id\", axis = 1)\n",
    "X_train = X_train.drop(\"SalePrice\", axis = 1)\n",
    "X_train = X_train.drop(\"source\", axis = 1)\n",
    "X_test = df_test.drop(\"Id\", axis = 1)\n",
    "X_test = X_test.drop(\"SalePrice\", axis = 1)\n",
    "X_test = X_test.drop(\"source\", axis = 1)"
   ]
  },
  {
   "cell_type": "code",
   "execution_count": 19,
   "metadata": {
    "collapsed": true
   },
   "outputs": [],
   "source": [
    "# Library for machine learning\n",
    "from sklearn.linear_model import ElasticNet, Lasso,  BayesianRidge, LassoLarsIC\n",
    "from sklearn.ensemble import RandomForestRegressor,  GradientBoostingRegressor\n",
    "from sklearn.kernel_ridge import KernelRidge\n",
    "from sklearn.pipeline import make_pipeline\n",
    "from sklearn.preprocessing import RobustScaler\n",
    "from sklearn.base import BaseEstimator, TransformerMixin, RegressorMixin, clone\n",
    "from sklearn.model_selection import KFold, cross_val_score, train_test_split\n",
    "from sklearn.metrics import mean_squared_error\n",
    "import xgboost as xgb"
   ]
  },
  {
   "cell_type": "code",
   "execution_count": 20,
   "metadata": {
    "collapsed": true
   },
   "outputs": [],
   "source": [
    "#Validation function\n",
    "n_folds = 5\n",
    "\n",
    "def rmsle_cv(model):\n",
    "    kf = KFold(n_folds, shuffle=True, random_state=42).get_n_splits(X_train.values)\n",
    "    rmse= np.sqrt(-cross_val_score(model, X_train.values, y_train, scoring=\"neg_mean_squared_error\", cv = kf))\n",
    "    return(rmse)"
   ]
  },
  {
   "cell_type": "code",
   "execution_count": 21,
   "metadata": {
    "collapsed": true
   },
   "outputs": [],
   "source": [
    "# Base models\n",
    "# Lasso\n",
    "lasso = make_pipeline(RobustScaler(), Lasso(alpha =0.0005, random_state=1))\n",
    "# Gradient boosting\n",
    "GBoost = GradientBoostingRegressor(n_estimators=3000, learning_rate=0.05,\n",
    "                                   max_depth=4, max_features='sqrt',\n",
    "                                   min_samples_leaf=15, min_samples_split=10, \n",
    "                                   loss='huber', random_state =5)\n",
    "# XGboosting\n",
    "model_xgb = xgb.XGBRegressor(colsample_bytree=0.4603, gamma=0.0468, \n",
    "                             learning_rate=0.05, max_depth=3, \n",
    "                             min_child_weight=1.7817, n_estimators=2200,\n",
    "                             reg_alpha=0.4640, reg_lambda=0.8571,\n",
    "                             subsample=0.5213, silent=1,\n",
    "                             random_state =7, nthread = -1)\n",
    "# Random forest\n",
    "model_RF = RandomForestRegressor(n_estimators=1500, n_jobs=-1, max_features = \"auto\")"
   ]
  },
  {
   "cell_type": "code",
   "execution_count": 22,
   "metadata": {
    "collapsed": false
   },
   "outputs": [
    {
     "name": "stdout",
     "output_type": "stream",
     "text": [
      "\n",
      "Lasso score: 0.1095 (0.0055)\n",
      "\n"
     ]
    }
   ],
   "source": [
    "# Score for lasso\n",
    "score = rmsle_cv(lasso)\n",
    "print \"\\nLasso score: {:.4f} ({:.4f})\\n\".format(score.mean(), score.std())"
   ]
  },
  {
   "cell_type": "code",
   "execution_count": 23,
   "metadata": {
    "collapsed": false
   },
   "outputs": [
    {
     "name": "stdout",
     "output_type": "stream",
     "text": [
      "Gradient Boosting score: 0.1153 (0.0062)\n",
      "\n"
     ]
    }
   ],
   "source": [
    "# Score for gradient boosting\n",
    "score = rmsle_cv(GBoost)\n",
    "print \"Gradient Boosting score: {:.4f} ({:.4f})\\n\".format(score.mean(), score.std())"
   ]
  },
  {
   "cell_type": "code",
   "execution_count": 24,
   "metadata": {
    "collapsed": false
   },
   "outputs": [
    {
     "name": "stdout",
     "output_type": "stream",
     "text": [
      "Xgboost score: 0.1146 (0.0057)\n",
      "\n"
     ]
    }
   ],
   "source": [
    "# Score for XGBoosting\n",
    "score = rmsle_cv(model_xgb)\n",
    "print \"Xgboost score: {:.4f} ({:.4f})\\n\".format(score.mean(), score.std())"
   ]
  },
  {
   "cell_type": "code",
   "execution_count": 17,
   "metadata": {
    "collapsed": false
   },
   "outputs": [
    {
     "name": "stdout",
     "output_type": "stream",
     "text": [
      "Random forest score: 0.1363 (0.0032)\n",
      "\n"
     ]
    }
   ],
   "source": [
    "# Score for random forest\n",
    "score = rmsle_cv(model_RF)\n",
    "print \"Random forest score: {:.4f} ({:.4f})\\n\".format(score.mean(), score.std())"
   ]
  },
  {
   "cell_type": "code",
   "execution_count": 18,
   "metadata": {
    "collapsed": false
   },
   "outputs": [],
   "source": [
    "# Predict by Lasso\n",
    "lasso.fit(X_train, y_train)\n",
    "y_pred_lasso = lasso.predict(X_test)\n",
    "y_pred_lasso = np.exp(y_pred_lasso)\n",
    "\n",
    "# Submission \n",
    "sub = pd.DataFrame()\n",
    "sub['Id'] = df_test[\"Id\"]\n",
    "sub['SalePrice'] = y_pred_lasso\n",
    "sub.to_csv('submission_lasso.csv',index=False)"
   ]
  },
  {
   "cell_type": "code",
   "execution_count": 19,
   "metadata": {
    "collapsed": true
   },
   "outputs": [],
   "source": [
    "# Predict by Gradient boosting\n",
    "GBoost.fit(X_train, y_train)\n",
    "y_pred_GBoost = GBoost.predict(X_test)\n",
    "y_pred_GBoost = np.exp(y_pred_GBoost)\n",
    "\n",
    "# Submission\n",
    "sub = pd.DataFrame()\n",
    "sub['Id'] = df_test[\"Id\"]\n",
    "sub['SalePrice'] = y_pred_GBoost\n",
    "sub.to_csv('submission_GBoost.csv',index=False)"
   ]
  },
  {
   "cell_type": "code",
   "execution_count": 20,
   "metadata": {
    "collapsed": false
   },
   "outputs": [],
   "source": [
    "# Predict by random forest\n",
    "model_RF.fit(X_train, y_train)\n",
    "y_pred_RF = model_RF.predict(X_test)\n",
    "y_pred_RF = np.exp(y_pred_RF)\n",
    "\n",
    "# Submission\n",
    "sub = pd.DataFrame()\n",
    "sub['Id'] = df_test[\"Id\"]\n",
    "sub['SalePrice'] = y_pred_RF\n",
    "sub.to_csv('submission_RF.csv',index=False)"
   ]
  },
  {
   "cell_type": "code",
   "execution_count": 21,
   "metadata": {
    "collapsed": true
   },
   "outputs": [],
   "source": [
    "# Lasso + gradient boosting\n",
    "lasso.fit(X_train, y_train)\n",
    "y_pred_lasso = lasso.predict(X_test)\n",
    "GBoost.fit(X_train, y_train)\n",
    "y_pred_GBoost = GBoost.predict(X_test)\n",
    "\n",
    "y_pred_lasso_GBoost = (y_pred_lasso + y_pred_GBoost) / 2\n",
    "y_pred_lasso_GBoost = np.exp(y_pred_lasso_GBoost)\n",
    "\n",
    "# Submission\n",
    "sub = pd.DataFrame()\n",
    "sub['Id'] = df_test[\"Id\"]\n",
    "sub['SalePrice'] = y_pred_lasso_GBoost\n",
    "sub.to_csv('submission_Lasso_GBoost.csv',index=False)"
   ]
  },
  {
   "cell_type": "code",
   "execution_count": 22,
   "metadata": {
    "collapsed": true
   },
   "outputs": [],
   "source": [
    "# Xgboosting\n",
    "model_xgb.fit(X_train, y_train)\n",
    "y_pred_xgb = model_xgb.predict(X_test)\n",
    "y_pred_xgb = np.exp(y_pred_xgb)\n",
    "\n",
    "# Submission\n",
    "sub = pd.DataFrame()\n",
    "sub['Id'] = df_test[\"Id\"]\n",
    "sub['SalePrice'] = y_pred_xgb\n",
    "sub.to_csv('submission_xgb.csv',index=False)"
   ]
  },
  {
   "cell_type": "code",
   "execution_count": 26,
   "metadata": {
    "collapsed": true
   },
   "outputs": [],
   "source": [
    "# Lasso + xgboosting + GBoost\n",
    "lasso.fit(X_train, y_train)\n",
    "y_pred_lasso = lasso.predict(X_test)\n",
    "model_xgb.fit(X_train, y_train)\n",
    "y_pred_xgb = model_xgb.predict(X_test)\n",
    "GBoost.fit(X_train, y_train)\n",
    "y_pred_GBoost = GBoost.predict(X_test)\n",
    "\n",
    "y_pred_lasso_xgb_XGB = 0.5 * y_pred_lasso + 0.25 * y_pred_xgb + 0.25 * y_pred_GBoost\n",
    "y_pred_lasso_xgb_XGB = np.exp(y_pred_lasso_xgb_XGB)\n",
    "\n",
    "# Submission\n",
    "sub = pd.DataFrame()\n",
    "sub['Id'] = df_test[\"Id\"]\n",
    "sub['SalePrice'] = y_pred_lasso_xgb_XGB\n",
    "sub.to_csv('submission_lasso_xgb_GBoost.csv',index=False)"
   ]
  },
  {
   "cell_type": "code",
   "execution_count": null,
   "metadata": {
    "collapsed": true
   },
   "outputs": [],
   "source": [
    "# Lasso + xgboosting \n",
    "lasso.fit(X_train, y_train)\n",
    "y_pred_lasso = lasso.predict(X_test)\n",
    "model_xgb.fit(X_train, y_train)\n",
    "y_pred_xgb = model_xgb.predict(X_test)\n",
    "\n",
    "y_pred_lasso_xgb = (y_pred_lasso + y_pred_xgb) / 2\n",
    "y_pred_lasso_xgb = np.exp(y_pred_lasso_xgb)\n",
    "\n",
    "# Submission\n",
    "sub = pd.DataFrame()\n",
    "sub['Id'] = df_test[\"Id\"]\n",
    "sub['SalePrice'] = y_pred_lasso_GBoost\n",
    "sub.to_csv('submission_Lasso_xgb.csv',index=False)"
   ]
  },
  {
   "cell_type": "code",
   "execution_count": 27,
   "metadata": {
    "collapsed": true
   },
   "outputs": [],
   "source": [
    "# Stacking lasso and xgb by linear regression\n",
    "from sklearn import datasets, linear_model\n",
    "\n",
    "# Create linear regression object\n",
    "regr = linear_model.LinearRegression()\n",
    "\n",
    "# Fit the basic models\n",
    "lasso.fit(X_train, y_train)\n",
    "X_pred_lasso = lasso.predict(X_train)\n",
    "model_xgb.fit(X_train, y_train)\n",
    "X_pred_xgb = model_xgb.predict(X_train)\n",
    "GBoost.fit(X_train, y_train)\n",
    "X_pred_GBoost = GBoost.predict(X_train)"
   ]
  },
  {
   "cell_type": "code",
   "execution_count": 28,
   "metadata": {
    "collapsed": false
   },
   "outputs": [],
   "source": [
    "X = np.ones((len(X_pred_lasso), 3))"
   ]
  },
  {
   "cell_type": "code",
   "execution_count": 29,
   "metadata": {
    "collapsed": false
   },
   "outputs": [],
   "source": [
    "X[:,0] = X_pred_lasso\n",
    "X[:,1] = X_pred_xgb\n",
    "X[:,2] = X_pred_GBoost"
   ]
  },
  {
   "cell_type": "code",
   "execution_count": 30,
   "metadata": {
    "collapsed": false
   },
   "outputs": [
    {
     "data": {
      "text/plain": [
       "LinearRegression(copy_X=True, fit_intercept=True, n_jobs=1, normalize=False)"
      ]
     },
     "execution_count": 30,
     "metadata": {},
     "output_type": "execute_result"
    }
   ],
   "source": [
    "regr.fit(X, y_train)"
   ]
  },
  {
   "cell_type": "code",
   "execution_count": 31,
   "metadata": {
    "collapsed": false
   },
   "outputs": [
    {
     "data": {
      "text/plain": [
       "array([-0.27027724,  0.19861063,  1.08758526])"
      ]
     },
     "execution_count": 31,
     "metadata": {},
     "output_type": "execute_result"
    }
   ],
   "source": [
    "regr.coef_"
   ]
  },
  {
   "cell_type": "code",
   "execution_count": 32,
   "metadata": {
    "collapsed": false
   },
   "outputs": [
    {
     "data": {
      "text/plain": [
       "1.0159186500000001"
      ]
     },
     "execution_count": 32,
     "metadata": {},
     "output_type": "execute_result"
    }
   ],
   "source": [
    "-0.27027724 + 0.19861063 + 1.08758526"
   ]
  },
  {
   "cell_type": "code",
   "execution_count": 35,
   "metadata": {
    "collapsed": false
   },
   "outputs": [],
   "source": [
    "# Predict the values\n",
    "y_pred_lasso = lasso.predict(X_test)\n",
    "y_pred_xgb = model_xgb.predict(X_test)\n",
    "y_pred_XGoost = GBoost.predict(X_test)\n",
    "\n",
    "y_pred_stack =  (-0.27027724 * y_pred_lasso + 0.19861063 * y_pred_xgb + 1.08758526 * y_pred_XGoost) / 1.0159186500000001\n",
    "y_pred_stack= np.exp(y_pred_stack)\n",
    "\n",
    "# Submission\n",
    "sub = pd.DataFrame()\n",
    "sub['Id'] = df_test[\"Id\"]\n",
    "sub['SalePrice'] = y_pred_stack\n",
    "sub.to_csv('submission_lm_lasso_xgb_GBoost.csv',index=False)"
   ]
  }
 ],
 "metadata": {
  "kernelspec": {
   "display_name": "Python 2",
   "language": "python",
   "name": "python2"
  },
  "language_info": {
   "codemirror_mode": {
    "name": "ipython",
    "version": 2
   },
   "file_extension": ".py",
   "mimetype": "text/x-python",
   "name": "python",
   "nbconvert_exporter": "python",
   "pygments_lexer": "ipython2",
   "version": "2.7.13"
  }
 },
 "nbformat": 4,
 "nbformat_minor": 2
}
